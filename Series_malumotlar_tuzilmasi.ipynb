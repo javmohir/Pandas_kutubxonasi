{
  "cells": [
    {
      "cell_type": "markdown",
      "metadata": {
        "id": "view-in-github",
        "colab_type": "text"
      },
      "source": [
        "<a href=\"https://colab.research.google.com/github/javmohir/Pandas_kutubxonasi/blob/main/Series_malumotlar_tuzilmasi.ipynb\" target=\"_parent\"><img src=\"https://colab.research.google.com/assets/colab-badge.svg\" alt=\"Open In Colab\"/></a>"
      ]
    },
    {
      "cell_type": "code",
      "execution_count": 70,
      "metadata": {
        "id": "BujG8fbPpbuD"
      },
      "outputs": [],
      "source": [
        "import numpy as np\n",
        "import pandas as pd\n",
        "from pandas import Series"
      ]
    },
    {
      "cell_type": "markdown",
      "source": [
        "pandas kutubxonasi ma'lumotlar muhandisining eng muhim ish quroli hisoblanadi. Data Science loyihalar ustida ishlar ekanmiz, 90% amallar aynan pandas yordamida amalga oshiriladi. pandas o'zining maxsus ma'lumotlar tuzilmalariga ega va bu tuzilmalar ma'lumotlarga ishlov berish, tozalash va boshqa amllarni bir necha barobar osonlashtiradi.\n",
        "\n",
        "Avvalgi bo'limda ko'rilgan numpy kutubxonasidan farqli ravishda, pandas kutubxonasi faqatgina sonlardan iborat massivlar bilan emas, balki turli ko'rinishdagi ma'lumotlardan iborat jadvallar bilan ishlashga moslashgan."
      ],
      "metadata": {
        "id": "aNE21dXsJ6Jn"
      }
    },
    {
      "cell_type": "markdown",
      "source": [
        "pandas kutubxonasi ma'lumotlar muhandisining eng muhim ish quroli hisoblanadi. Data Science loyihalar ustida ishlar ekanmiz, 90% amallar aynan pandas yordamida amalga oshiriladi. pandas o'zining maxsus ma'lumotlar tuzilmalariga ega va bu tuzilmalar ma'lumotlarga ishlov berish, tozalash va boshqa amllarni bir necha barobar osonlashtiradi.\n",
        "\n",
        "Avvalgi bo'limda ko'rilgan numpy kutubxonasidan farqli ravishda, pandas kutubxonasi faqatgina sonlardan iborat massivlar bilan emas, balki turli ko'rinishdagi ma'lumotlardan iborat jadvallar bilan ishlashga moslashgan."
      ],
      "metadata": {
        "id": "RO7BbPSSKDrs"
      }
    },
    {
      "cell_type": "code",
      "source": [
        "#Boshlanishiga bu ikki tuzilmalarni ham dasturimizga chaqirib olaylik.\n",
        "from pandas import Series, DataFrame as df"
      ],
      "metadata": {
        "id": "TNof-__RKH7G"
      },
      "execution_count": 116,
      "outputs": []
    },
    {
      "cell_type": "markdown",
      "source": [
        "Series bir o'lchovli massivga o'xshash ma'lumotlar tuzilmasi bo'lib qiymatlar va ularga mos keluvchi indekslardan iborat bo'ladi.\n",
        "\n",
        "Eng sodda ko'rinishda Series ma'lumotlar massividan iborat bo'ladi."
      ],
      "metadata": {
        "id": "H-ydB4OjKcKN"
      }
    },
    {
      "cell_type": "code",
      "source": [
        "obj=Series([4,5,-6,8.2])"
      ],
      "metadata": {
        "id": "_VBHDGilb78C"
      },
      "execution_count": 71,
      "outputs": []
    },
    {
      "cell_type": "markdown",
      "source": [
        "Konsolga chop etganda ,Series yuqoridagi kabi indekslar (chap ustun) va qiymatlar (o'ng ustun) ko'rinishida chiqadi.\n",
        "Series obyektini yaratsihda indekslarni bermaganimiz sababli indekslar 0 dan N-1 gacha qiymatlarni oladi (N ma'lumotlar uzunligi).\n",
        "\n",
        "Series obyekti index va qiymatlarini alohida ajratib ko'rishimiz ham mumkin."
      ],
      "metadata": {
        "id": "CNsDEyRBKoFb"
      }
    },
    {
      "cell_type": "code",
      "source": [
        "type(obj)"
      ],
      "metadata": {
        "colab": {
          "base_uri": "https://localhost:8080/"
        },
        "id": "bAC9QjHpcF5g",
        "outputId": "fa87bf04-4985-4b65-8b77-f8457f7a65d2"
      },
      "execution_count": 72,
      "outputs": [
        {
          "output_type": "execute_result",
          "data": {
            "text/plain": [
              "pandas.core.series.Series"
            ]
          },
          "metadata": {},
          "execution_count": 72
        }
      ]
    },
    {
      "cell_type": "code",
      "source": [
        "print(obj)"
      ],
      "metadata": {
        "colab": {
          "base_uri": "https://localhost:8080/"
        },
        "id": "ZmN_3Ur7cIHF",
        "outputId": "872b07fe-dc06-46ab-b987-1284143754d5"
      },
      "execution_count": 73,
      "outputs": [
        {
          "output_type": "stream",
          "name": "stdout",
          "text": [
            "0    4.0\n",
            "1    5.0\n",
            "2   -6.0\n",
            "3    8.2\n",
            "dtype: float64\n"
          ]
        }
      ]
    },
    {
      "cell_type": "code",
      "source": [
        "obj.values"
      ],
      "metadata": {
        "colab": {
          "base_uri": "https://localhost:8080/"
        },
        "id": "GzkHaCRDcKoT",
        "outputId": "317f9566-549f-47a0-f36c-f092a6c2139b"
      },
      "execution_count": 74,
      "outputs": [
        {
          "output_type": "execute_result",
          "data": {
            "text/plain": [
              "array([ 4. ,  5. , -6. ,  8.2])"
            ]
          },
          "metadata": {},
          "execution_count": 74
        }
      ]
    },
    {
      "cell_type": "code",
      "source": [
        "obj.index"
      ],
      "metadata": {
        "colab": {
          "base_uri": "https://localhost:8080/"
        },
        "id": "_A0NTMUXcbgr",
        "outputId": "cbae87ce-a886-4ba4-da9f-ccdc31d913e0"
      },
      "execution_count": 75,
      "outputs": [
        {
          "output_type": "execute_result",
          "data": {
            "text/plain": [
              "RangeIndex(start=0, stop=4, step=1)"
            ]
          },
          "metadata": {},
          "execution_count": 75
        }
      ]
    },
    {
      "cell_type": "code",
      "source": [
        "obj[0]"
      ],
      "metadata": {
        "colab": {
          "base_uri": "https://localhost:8080/"
        },
        "id": "RPgpMrDVciEO",
        "outputId": "c18b863d-66ca-42fe-de75-9c9e9c2f5629"
      },
      "execution_count": 76,
      "outputs": [
        {
          "output_type": "execute_result",
          "data": {
            "text/plain": [
              "4.0"
            ]
          },
          "metadata": {},
          "execution_count": 76
        }
      ]
    },
    {
      "cell_type": "code",
      "source": [
        "obj2=Series([6,3,2,1,5],['a','b','c','d','l'])"
      ],
      "metadata": {
        "id": "QI8s8Za1cn_I"
      },
      "execution_count": 77,
      "outputs": []
    },
    {
      "cell_type": "code",
      "source": [
        "obj2['b']"
      ],
      "metadata": {
        "colab": {
          "base_uri": "https://localhost:8080/"
        },
        "id": "m_8UYpS5dEd6",
        "outputId": "ad92b875-711f-498e-beda-d384ca2375a3"
      },
      "execution_count": 78,
      "outputs": [
        {
          "output_type": "execute_result",
          "data": {
            "text/plain": [
              "3"
            ]
          },
          "metadata": {},
          "execution_count": 78
        }
      ]
    },
    {
      "cell_type": "code",
      "source": [
        "obj2[['a','l','b']]"
      ],
      "metadata": {
        "colab": {
          "base_uri": "https://localhost:8080/"
        },
        "id": "KxfnMXV5dNoJ",
        "outputId": "9b65a21f-c2ad-40af-cf3e-95bed55fe4e6"
      },
      "execution_count": 79,
      "outputs": [
        {
          "output_type": "execute_result",
          "data": {
            "text/plain": [
              "a    6\n",
              "l    5\n",
              "b    3\n",
              "dtype: int64"
            ]
          },
          "metadata": {},
          "execution_count": 79
        }
      ]
    },
    {
      "cell_type": "code",
      "source": [
        "obj2['b']+obj2['l']"
      ],
      "metadata": {
        "colab": {
          "base_uri": "https://localhost:8080/"
        },
        "id": "UClAK42MdTAV",
        "outputId": "dc20c1f3-b93f-4253-e2a3-1dae18b6f322"
      },
      "execution_count": 80,
      "outputs": [
        {
          "output_type": "execute_result",
          "data": {
            "text/plain": [
              "8"
            ]
          },
          "metadata": {},
          "execution_count": 80
        }
      ]
    },
    {
      "cell_type": "code",
      "source": [
        "obj2[obj2>2]"
      ],
      "metadata": {
        "colab": {
          "base_uri": "https://localhost:8080/"
        },
        "id": "1rPhcmWMds9U",
        "outputId": "7353a729-fae8-4ebe-da25-9df35b71c333"
      },
      "execution_count": 81,
      "outputs": [
        {
          "output_type": "execute_result",
          "data": {
            "text/plain": [
              "a    6\n",
              "b    3\n",
              "l    5\n",
              "dtype: int64"
            ]
          },
          "metadata": {},
          "execution_count": 81
        }
      ]
    },
    {
      "cell_type": "code",
      "source": [
        "obj2*2"
      ],
      "metadata": {
        "colab": {
          "base_uri": "https://localhost:8080/"
        },
        "id": "Gd59b-Rrd4rw",
        "outputId": "872f2cf1-912c-40f0-9f7b-0885e0c6aa0b"
      },
      "execution_count": 82,
      "outputs": [
        {
          "output_type": "execute_result",
          "data": {
            "text/plain": [
              "a    12\n",
              "b     6\n",
              "c     4\n",
              "d     2\n",
              "l    10\n",
              "dtype: int64"
            ]
          },
          "metadata": {},
          "execution_count": 82
        }
      ]
    },
    {
      "cell_type": "code",
      "source": [
        "np.exp(obj2)"
      ],
      "metadata": {
        "colab": {
          "base_uri": "https://localhost:8080/"
        },
        "id": "NR4gXtM8d9Kk",
        "outputId": "b4e70841-7408-4baa-fca3-30e438500b8b"
      },
      "execution_count": 83,
      "outputs": [
        {
          "output_type": "execute_result",
          "data": {
            "text/plain": [
              "a    403.428793\n",
              "b     20.085537\n",
              "c      7.389056\n",
              "d      2.718282\n",
              "l    148.413159\n",
              "dtype: float64"
            ]
          },
          "metadata": {},
          "execution_count": 83
        }
      ]
    },
    {
      "cell_type": "code",
      "source": [
        "obj2"
      ],
      "metadata": {
        "colab": {
          "base_uri": "https://localhost:8080/"
        },
        "id": "QljWJln0eGbh",
        "outputId": "dc0a9b44-b32a-4938-b72a-24a3de61cdc8"
      },
      "execution_count": 84,
      "outputs": [
        {
          "output_type": "execute_result",
          "data": {
            "text/plain": [
              "a    6\n",
              "b    3\n",
              "c    2\n",
              "d    1\n",
              "l    5\n",
              "dtype: int64"
            ]
          },
          "metadata": {},
          "execution_count": 84
        }
      ]
    },
    {
      "cell_type": "code",
      "source": [
        "cars={'gentra':11000,'malibu':22000,'kaptiva':19000,'optra':25000}"
      ],
      "metadata": {
        "id": "EXyZHYPomj-K"
      },
      "execution_count": 85,
      "outputs": []
    },
    {
      "cell_type": "code",
      "source": [
        "cars1=Series(cars)\n",
        "cars1"
      ],
      "metadata": {
        "colab": {
          "base_uri": "https://localhost:8080/"
        },
        "id": "c04g4VD9nnif",
        "outputId": "1e5f890d-0772-4861-ef01-7c220b256c6d"
      },
      "execution_count": 86,
      "outputs": [
        {
          "output_type": "execute_result",
          "data": {
            "text/plain": [
              "gentra     11000\n",
              "malibu     22000\n",
              "kaptiva    19000\n",
              "optra      25000\n",
              "dtype: int64"
            ]
          },
          "metadata": {},
          "execution_count": 86
        }
      ]
    },
    {
      "cell_type": "code",
      "source": [
        "'malibu' in cars1"
      ],
      "metadata": {
        "colab": {
          "base_uri": "https://localhost:8080/"
        },
        "id": "ziI-qiDXntJp",
        "outputId": "b1bb2117-4931-47b8-e0c1-0f1845aeee0b"
      },
      "execution_count": 87,
      "outputs": [
        {
          "output_type": "execute_result",
          "data": {
            "text/plain": [
              "True"
            ]
          },
          "metadata": {},
          "execution_count": 87
        }
      ]
    },
    {
      "cell_type": "code",
      "source": [
        "'spark' in cars1"
      ],
      "metadata": {
        "colab": {
          "base_uri": "https://localhost:8080/"
        },
        "id": "A8UH-m3On65l",
        "outputId": "2d9300c0-64d0-4c78-bd14-9c4783ca4bb8"
      },
      "execution_count": 88,
      "outputs": [
        {
          "output_type": "execute_result",
          "data": {
            "text/plain": [
              "False"
            ]
          },
          "metadata": {},
          "execution_count": 88
        }
      ]
    },
    {
      "cell_type": "code",
      "source": [
        "cars1['gentra']"
      ],
      "metadata": {
        "colab": {
          "base_uri": "https://localhost:8080/"
        },
        "id": "vCZdnX4XoAN7",
        "outputId": "5450f70b-c11d-4038-ff7c-3624f58710f7"
      },
      "execution_count": 89,
      "outputs": [
        {
          "output_type": "execute_result",
          "data": {
            "text/plain": [
              "11000"
            ]
          },
          "metadata": {},
          "execution_count": 89
        }
      ]
    },
    {
      "cell_type": "code",
      "source": [
        "cars"
      ],
      "metadata": {
        "colab": {
          "base_uri": "https://localhost:8080/"
        },
        "id": "1Gohc7cCpHsI",
        "outputId": "6a0b8bf4-2d3d-4b98-c5d1-443734543864"
      },
      "execution_count": 90,
      "outputs": [
        {
          "output_type": "execute_result",
          "data": {
            "text/plain": [
              "{'gentra': 11000, 'malibu': 22000, 'kaptiva': 19000, 'optra': 25000}"
            ]
          },
          "metadata": {},
          "execution_count": 90
        }
      ]
    },
    {
      "cell_type": "code",
      "source": [
        "models=['kaptiva','malibu','gentra','orlando','nexia','optra']"
      ],
      "metadata": {
        "id": "pSLdM7iIoHPw"
      },
      "execution_count": 91,
      "outputs": []
    },
    {
      "cell_type": "code",
      "source": [
        "cars2=Series(cars, index=models)\n",
        "cars2"
      ],
      "metadata": {
        "colab": {
          "base_uri": "https://localhost:8080/"
        },
        "id": "K95hE7OJorq4",
        "outputId": "4941b621-0ae1-4998-86fc-ad786797e9b5"
      },
      "execution_count": 92,
      "outputs": [
        {
          "output_type": "execute_result",
          "data": {
            "text/plain": [
              "kaptiva    19000.0\n",
              "malibu     22000.0\n",
              "gentra     11000.0\n",
              "orlando        NaN\n",
              "nexia          NaN\n",
              "optra      25000.0\n",
              "dtype: float64"
            ]
          },
          "metadata": {},
          "execution_count": 92
        }
      ]
    },
    {
      "cell_type": "code",
      "source": [
        "cars2.isnull()"
      ],
      "metadata": {
        "colab": {
          "base_uri": "https://localhost:8080/"
        },
        "id": "CXjOV7_--kAM",
        "outputId": "4b02255a-6f60-482f-a813-b750f0f57a08"
      },
      "execution_count": 93,
      "outputs": [
        {
          "output_type": "execute_result",
          "data": {
            "text/plain": [
              "kaptiva    False\n",
              "malibu     False\n",
              "gentra     False\n",
              "orlando     True\n",
              "nexia       True\n",
              "optra      False\n",
              "dtype: bool"
            ]
          },
          "metadata": {},
          "execution_count": 93
        }
      ]
    },
    {
      "cell_type": "code",
      "source": [
        "cars2.notnull()"
      ],
      "metadata": {
        "colab": {
          "base_uri": "https://localhost:8080/"
        },
        "id": "0tVG4vthpRIQ",
        "outputId": "ff525a6a-5cd0-4216-c7ac-e7a08e13030c"
      },
      "execution_count": 94,
      "outputs": [
        {
          "output_type": "execute_result",
          "data": {
            "text/plain": [
              "kaptiva     True\n",
              "malibu      True\n",
              "gentra      True\n",
              "orlando    False\n",
              "nexia      False\n",
              "optra       True\n",
              "dtype: bool"
            ]
          },
          "metadata": {},
          "execution_count": 94
        }
      ]
    },
    {
      "cell_type": "code",
      "source": [
        "cars1"
      ],
      "metadata": {
        "colab": {
          "base_uri": "https://localhost:8080/"
        },
        "id": "HLKHrj66-7lQ",
        "outputId": "9a13b74b-1a29-428c-c6b8-8676a235db0e"
      },
      "execution_count": 95,
      "outputs": [
        {
          "output_type": "execute_result",
          "data": {
            "text/plain": [
              "gentra     11000\n",
              "malibu     22000\n",
              "kaptiva    19000\n",
              "optra      25000\n",
              "dtype: int64"
            ]
          },
          "metadata": {},
          "execution_count": 95
        }
      ]
    },
    {
      "cell_type": "code",
      "source": [
        "cars2"
      ],
      "metadata": {
        "colab": {
          "base_uri": "https://localhost:8080/"
        },
        "id": "sM2CL7j7_OLw",
        "outputId": "a326d6ab-3436-4718-9f9d-ceb775112fe6"
      },
      "execution_count": 96,
      "outputs": [
        {
          "output_type": "execute_result",
          "data": {
            "text/plain": [
              "kaptiva    19000.0\n",
              "malibu     22000.0\n",
              "gentra     11000.0\n",
              "orlando        NaN\n",
              "nexia          NaN\n",
              "optra      25000.0\n",
              "dtype: float64"
            ]
          },
          "metadata": {},
          "execution_count": 96
        }
      ]
    },
    {
      "cell_type": "code",
      "source": [
        "cars1+cars2"
      ],
      "metadata": {
        "colab": {
          "base_uri": "https://localhost:8080/"
        },
        "id": "w6pXDMa0_PWG",
        "outputId": "8f9ee77e-fd8c-49cd-d854-1eac5f063ada"
      },
      "execution_count": 97,
      "outputs": [
        {
          "output_type": "execute_result",
          "data": {
            "text/plain": [
              "gentra     22000.0\n",
              "kaptiva    38000.0\n",
              "malibu     44000.0\n",
              "nexia          NaN\n",
              "optra      50000.0\n",
              "orlando        NaN\n",
              "dtype: float64"
            ]
          },
          "metadata": {},
          "execution_count": 97
        }
      ]
    },
    {
      "cell_type": "code",
      "source": [
        "cars2.name='Avtosalon'"
      ],
      "metadata": {
        "id": "TOXb9de5_R11"
      },
      "execution_count": 98,
      "outputs": []
    },
    {
      "cell_type": "code",
      "source": [
        "cars2.index.name='model'"
      ],
      "metadata": {
        "id": "AbmPix2XEkjc"
      },
      "execution_count": 99,
      "outputs": []
    },
    {
      "cell_type": "code",
      "source": [
        "cars2"
      ],
      "metadata": {
        "colab": {
          "base_uri": "https://localhost:8080/"
        },
        "id": "E1yqazz9EpjL",
        "outputId": "5e05be03-451c-406a-a8d5-e3b4fb04e71b"
      },
      "execution_count": 100,
      "outputs": [
        {
          "output_type": "execute_result",
          "data": {
            "text/plain": [
              "model\n",
              "kaptiva    19000.0\n",
              "malibu     22000.0\n",
              "gentra     11000.0\n",
              "orlando        NaN\n",
              "nexia          NaN\n",
              "optra      25000.0\n",
              "Name: Avtosalon, dtype: float64"
            ]
          },
          "metadata": {},
          "execution_count": 100
        }
      ]
    },
    {
      "cell_type": "code",
      "source": [
        "cars2.index # indekslar"
      ],
      "metadata": {
        "colab": {
          "base_uri": "https://localhost:8080/"
        },
        "id": "KdeHPaHOEwjY",
        "outputId": "f24bf178-6ac9-4dd7-b15f-febdfd0fa1fa"
      },
      "execution_count": 101,
      "outputs": [
        {
          "output_type": "execute_result",
          "data": {
            "text/plain": [
              "Index(['kaptiva', 'malibu', 'gentra', 'orlando', 'nexia', 'optra'], dtype='object', name='model')"
            ]
          },
          "metadata": {},
          "execution_count": 101
        }
      ]
    },
    {
      "cell_type": "code",
      "source": [
        "cars2.values  # qiymatlar"
      ],
      "metadata": {
        "colab": {
          "base_uri": "https://localhost:8080/"
        },
        "id": "qsUF8-gGFSvK",
        "outputId": "22355800-8998-4813-8df4-3a516aeb5530"
      },
      "execution_count": 102,
      "outputs": [
        {
          "output_type": "execute_result",
          "data": {
            "text/plain": [
              "array([19000., 22000., 11000.,    nan,    nan, 25000.])"
            ]
          },
          "metadata": {},
          "execution_count": 102
        }
      ]
    },
    {
      "cell_type": "code",
      "source": [
        "cars2.hasnans# qiymatlar takrorlanmas ekanini tekshirish"
      ],
      "metadata": {
        "colab": {
          "base_uri": "https://localhost:8080/"
        },
        "id": "hR2_eo9lFXfh",
        "outputId": "71b6252d-7a89-4677-f489-6c311379b2e5"
      },
      "execution_count": 103,
      "outputs": [
        {
          "output_type": "execute_result",
          "data": {
            "text/plain": [
              "True"
            ]
          },
          "metadata": {},
          "execution_count": 103
        }
      ]
    },
    {
      "cell_type": "code",
      "source": [
        "cars2.dtype # qiymatlarning ma'lumot turi"
      ],
      "metadata": {
        "colab": {
          "base_uri": "https://localhost:8080/"
        },
        "id": "vKjdDIKaFePR",
        "outputId": "ce4969b8-e748-43a5-c2a6-6dfa160da957"
      },
      "execution_count": 104,
      "outputs": [
        {
          "output_type": "execute_result",
          "data": {
            "text/plain": [
              "dtype('float64')"
            ]
          },
          "metadata": {},
          "execution_count": 104
        }
      ]
    },
    {
      "cell_type": "code",
      "source": [
        "cars2.is_unique  # qiymatlar takrorlanmas ekanini tekshirish"
      ],
      "metadata": {
        "colab": {
          "base_uri": "https://localhost:8080/"
        },
        "id": "1bTTMqigFvM7",
        "outputId": "51e80b6e-0619-4042-f9cb-697347f5595a"
      },
      "execution_count": 105,
      "outputs": [
        {
          "output_type": "execute_result",
          "data": {
            "text/plain": [
              "False"
            ]
          },
          "metadata": {},
          "execution_count": 105
        }
      ]
    },
    {
      "cell_type": "code",
      "source": [
        "cars1"
      ],
      "metadata": {
        "colab": {
          "base_uri": "https://localhost:8080/"
        },
        "id": "X4Fe-K6CGWBm",
        "outputId": "f72ea53d-b9db-4ce0-902b-570c7a7823ef"
      },
      "execution_count": 106,
      "outputs": [
        {
          "output_type": "execute_result",
          "data": {
            "text/plain": [
              "gentra     11000\n",
              "malibu     22000\n",
              "kaptiva    19000\n",
              "optra      25000\n",
              "dtype: int64"
            ]
          },
          "metadata": {},
          "execution_count": 106
        }
      ]
    },
    {
      "cell_type": "code",
      "source": [
        "cars1.is_unique"
      ],
      "metadata": {
        "colab": {
          "base_uri": "https://localhost:8080/"
        },
        "id": "EiEAHDnpF6Ft",
        "outputId": "26c1e8c8-25b0-412b-a3cd-80584620fa15"
      },
      "execution_count": 107,
      "outputs": [
        {
          "output_type": "execute_result",
          "data": {
            "text/plain": [
              "True"
            ]
          },
          "metadata": {},
          "execution_count": 107
        }
      ]
    },
    {
      "cell_type": "code",
      "source": [
        "cars1.iloc[2]  # ma'lumotlarga indeks tartib raqami bo'yicha murojaat qilish"
      ],
      "metadata": {
        "colab": {
          "base_uri": "https://localhost:8080/"
        },
        "id": "BUSUksdQGRnd",
        "outputId": "6e5fe61c-72dc-4f19-894c-7d717ce1c749"
      },
      "execution_count": 108,
      "outputs": [
        {
          "output_type": "execute_result",
          "data": {
            "text/plain": [
              "19000"
            ]
          },
          "metadata": {},
          "execution_count": 108
        }
      ]
    },
    {
      "cell_type": "code",
      "source": [
        "cars1.shape"
      ],
      "metadata": {
        "colab": {
          "base_uri": "https://localhost:8080/"
        },
        "id": "3ak9KcUAGlo2",
        "outputId": "8b926bf5-bf80-4d5a-a27a-a015d13bddf6"
      },
      "execution_count": 109,
      "outputs": [
        {
          "output_type": "execute_result",
          "data": {
            "text/plain": [
              "(4,)"
            ]
          },
          "metadata": {},
          "execution_count": 109
        }
      ]
    },
    {
      "cell_type": "code",
      "source": [
        "cars1.size"
      ],
      "metadata": {
        "id": "DP17aCMHGxOc",
        "colab": {
          "base_uri": "https://localhost:8080/"
        },
        "outputId": "4cbdaf53-78a6-41c9-84e0-7cc4d81174b2"
      },
      "execution_count": 110,
      "outputs": [
        {
          "output_type": "execute_result",
          "data": {
            "text/plain": [
              "4"
            ]
          },
          "metadata": {},
          "execution_count": 110
        }
      ]
    },
    {
      "cell_type": "code",
      "source": [
        "cars1['malibu']  # ma'lumotlarga indeks bo'yicha murojaat qilish"
      ],
      "metadata": {
        "id": "f3agxX2LHB3V",
        "colab": {
          "base_uri": "https://localhost:8080/"
        },
        "outputId": "c3dcde30-39ae-49e6-97ac-61131d4c4da5"
      },
      "execution_count": 111,
      "outputs": [
        {
          "output_type": "execute_result",
          "data": {
            "text/plain": [
              "22000"
            ]
          },
          "metadata": {},
          "execution_count": 111
        }
      ]
    },
    {
      "cell_type": "code",
      "source": [
        "cars2.max() # max qiymat"
      ],
      "metadata": {
        "id": "RMcnXHuxHWnQ",
        "colab": {
          "base_uri": "https://localhost:8080/"
        },
        "outputId": "6a9b00ad-efca-4969-9dfc-f81f67fa6924"
      },
      "execution_count": 113,
      "outputs": [
        {
          "output_type": "execute_result",
          "data": {
            "text/plain": [
              "25000.0"
            ]
          },
          "metadata": {},
          "execution_count": 113
        }
      ]
    },
    {
      "cell_type": "code",
      "source": [
        "cars2.min() # min qiymat"
      ],
      "metadata": {
        "id": "LBr5K-sDHZjN",
        "colab": {
          "base_uri": "https://localhost:8080/"
        },
        "outputId": "b1afe127-6c1f-4952-d923-85983fb92fcb"
      },
      "execution_count": 114,
      "outputs": [
        {
          "output_type": "execute_result",
          "data": {
            "text/plain": [
              "11000.0"
            ]
          },
          "metadata": {},
          "execution_count": 114
        }
      ]
    },
    {
      "cell_type": "code",
      "source": [
        "cars2.mean() # o'rtacha qiymat"
      ],
      "metadata": {
        "id": "zKgixLliHcKP",
        "colab": {
          "base_uri": "https://localhost:8080/"
        },
        "outputId": "089e40b0-0515-480b-9739-e6bbe4cff226"
      },
      "execution_count": 115,
      "outputs": [
        {
          "output_type": "execute_result",
          "data": {
            "text/plain": [
              "19250.0"
            ]
          },
          "metadata": {},
          "execution_count": 115
        }
      ]
    },
    {
      "cell_type": "code",
      "source": [],
      "metadata": {
        "id": "Oktm0BAGJBUB"
      },
      "execution_count": null,
      "outputs": []
    }
  ],
  "metadata": {
    "colab": {
      "provenance": [],
      "authorship_tag": "ABX9TyO0hvGpE4BEgZhwHF3ubbAl",
      "include_colab_link": true
    },
    "kernelspec": {
      "display_name": "Python 3",
      "name": "python3"
    },
    "language_info": {
      "name": "python"
    }
  },
  "nbformat": 4,
  "nbformat_minor": 0
}